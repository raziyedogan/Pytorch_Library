{
 "cells": [
  {
   "cell_type": "markdown",
   "id": "baec5b40",
   "metadata": {},
   "source": [
    "## Pytorch\n",
    "\n",
    "Numpy'da olduğu gibi Pytorch kütüphanesi kullanılarak bilimsel hesaplamalar yapılabilir.\n",
    "\n",
    "Pytorch'un Numpy'dan farkı, Pytorch'da GPU gücünü kullanabiliyoruz. Pytorch'u GPU üzerinden koşturabiliyoruz yani bilgisayarın ekran kartını kullanabiliyoruz.\n",
    "\n",
    "Pytorch esneklik ve hız sağlar. Yapılan araştırmalara göre Pytorch, Keras ve Tensorflow'dan daha hızlıdır ve zamanda esneklik sağlar. Esneklikten kasıt şudur: Pytorch'da küçük birimlere kadar dizaynı kendimiz yapıyoruz. Yani neural netwok'ün en küçük birimlerine kadar dizaynı kendimiz yapabiliyoruz.\n",
    "\n",
    "Pytorch'da debugging işlemi çok kolaydır. Bu özelliği Pytorch'un kullanımın yaygınlaşmasına sebep olan önemli özelliklerinden birisidir."
   ]
  },
  {
   "cell_type": "markdown",
   "id": "1652fcf3",
   "metadata": {},
   "source": [
    "## Matrices\n",
    "\n",
    "Matrisler, değerleri içerisinde barındıran array'lerdir. Array'leri neden neural network'te kullanıyoruz ya da neden pytorch'da öğreniyoruz? Herhangi bir neural network yapısını düşünün. İlk aşama forward propagation'dur. Yani prediction işleminin gerçekleştirildiği adımdır. Prediction işlemini gerçekleştirdikten sonra elimizdeki loss değerine göre backward propagation ile parametreleri update ediyoruz ve böylece öğrenme işlemini gerçekleştiriyoruz. \n",
    "\n",
    "Prediction denilen işlem matrislerin birbirleriyle çarpılıp toplanması sonucunda ortaya çıkan bir değerdir. Parametre denilen şey matrislerdir. Bu nedenle matrisler neural network'ün temel yapı taşlarıdır.\n",
    "\n",
    "<font color=\"CornflowerBlue\"><br>\n",
    "Pytorch'da matrisler 'tensor' olarak adlandırılır. Sadece Pytorch'da değil, array'ler tensor olarak adlandırılabilir. Tensor, multi dimension array'lerdir. Matrisler 2 boyutlu array'lerdir. 3,4,5... şeklinde multi dimension array'ler olduğunda \"3 boyutlu array\" veya \"tensor\" şeklinde adlandırabiliriz.\n",
    "    \n",
    "<br>\n",
    "<img src=\"p1.png\" align = \"left\" style=\"width:400px;height:300px\"/>"
   ]
  },
  {
   "cell_type": "markdown",
   "id": "c48aa88a",
   "metadata": {},
   "source": [
    "Şimdi numpy kütüphanesi ile array tanımlayalım. Ve numpy'dan pytorch kütüphanesine geçiş yapalım."
   ]
  },
  {
   "cell_type": "code",
   "execution_count": 1,
   "id": "3cc17df8",
   "metadata": {},
   "outputs": [
    {
     "name": "stdout",
     "output_type": "stream",
     "text": [
      "Array Type: <class 'numpy.ndarray'>\n",
      "Array Shape: (2, 3)\n",
      "[[1 2 3]\n",
      " [4 5 6]]\n"
     ]
    }
   ],
   "source": [
    "import numpy as np\n",
    "\n",
    "# numpy array\n",
    "array = [[1,2,3],[4,5,6]]\n",
    "first_array = np.array(array) # 2x3 array\n",
    "print(\"Array Type: {}\".format(type(first_array))) # type\n",
    "print(\"Array Shape: {}\".format(np.shape(first_array))) # shape\n",
    "print(first_array)"
   ]
  },
  {
   "cell_type": "markdown",
   "id": "7e5ed501",
   "metadata": {},
   "source": [
    "array = [[1,2,3],[4,5,6]] satırında bir liste elde edilmiştir. \n",
    "\n",
    "first_array = np.array(array) satırında liste, numpy array'e çevrilmiştir."
   ]
  },
  {
   "cell_type": "markdown",
   "id": "f6afd4ca",
   "metadata": {},
   "source": [
    "Şimdi de pytorch array implement edelim."
   ]
  },
  {
   "cell_type": "code",
   "execution_count": 2,
   "id": "ed21aae6",
   "metadata": {},
   "outputs": [
    {
     "name": "stdout",
     "output_type": "stream",
     "text": [
      "Array Type: <built-in method type of Tensor object at 0x000002A5F5A361D0>\n",
      "Array Shape: torch.Size([2, 3])\n",
      "tensor([[1., 2., 3.],\n",
      "        [4., 5., 6.]])\n"
     ]
    }
   ],
   "source": [
    "# import pytorch library\n",
    "import torch\n",
    "\n",
    "# pytorch array\n",
    "tensor = torch.Tensor(array)\n",
    "print(\"Array Type: {}\".format(tensor.type)) # type\n",
    "print(\"Array Shape: {}\".format(tensor.shape)) # shape\n",
    "print(tensor)"
   ]
  },
  {
   "cell_type": "markdown",
   "id": "1aff8335",
   "metadata": {},
   "source": [
    "tensor = torch.Tensor(array) satırı ile array isimli listeyi tensor yapısına dönüştürdüm.\n",
    "\n",
    "Şimdi allocation'un nasıl yapıldığından bahsedeyim. Bir tane boş liste oluşturup buna append etmektense belli boyutlarda matris yani tensor oluştururuz ve istediğimiz dedğerleri bu tensor'un içerisine depolarız. Böylece memory'den yer ayırmış oluyoruz ve buda işlemleri hızlı yapmamızı sağlar. Numpy'da bunu çok kullanıyoruz ve şimdi Pytorch'da nasıl kullanacağımızı görelim.\n",
    "\n",
    "<font color=\"IndianRed\"><br>\n",
    "np.ones() = torch.ones()\n",
    "\n",
    "<font color=\"IndianRed\"><br>\n",
    "np.random.rand() = torch.rand()"
   ]
  },
  {
   "cell_type": "markdown",
   "id": "b043f3a8",
   "metadata": {},
   "source": [
    "Renkli ifadelerde numpy'da yapılan bazı işlemlerin torch'da nasıl yapıldığını görmektesiniz. \n",
    "\n",
    "np.ones() = torch.ones() satırında np.ones() ifadesi ile 1 değerlerinden oluşan bir matris elde edilir. Bu işlemin torch'daki karşılığı torch.ones() şeklindedir.\n",
    "\n",
    "np.random.rand() = torch.rand() satırında ise, numpy'da random sayılar oluşturmak için np.random.rand() ifadesini kullanırız. Bu işlemin torch'daki karşılığı torch.rand() 'dır.\n",
    "\n",
    "Şimdi bu işlemlere dair bir kod yazalım."
   ]
  },
  {
   "cell_type": "code",
   "execution_count": 3,
   "id": "f7cce3bb",
   "metadata": {},
   "outputs": [
    {
     "name": "stdout",
     "output_type": "stream",
     "text": [
      "Numpy [[1. 1. 1.]\n",
      " [1. 1. 1.]]\n",
      "\n",
      "tensor([[1., 1., 1.],\n",
      "        [1., 1., 1.]])\n"
     ]
    }
   ],
   "source": [
    "# numpy ones\n",
    "print(\"Numpy {}\\n\".format(np.ones((2,3))))\n",
    "\n",
    "# pytorch ones\n",
    "print(torch.ones((2,3)))"
   ]
  },
  {
   "cell_type": "markdown",
   "id": "ac62f89c",
   "metadata": {},
   "source": [
    "np.ones((2,3)) ifadesi ile 2x3 boyutunda 1 değerlerinden oluşan bir array oluşturulmuştur. Bu işlemin torch'daki karşılığı torch.ones((2,3)) şeklinde gerçekleştirilmiştir."
   ]
  },
  {
   "cell_type": "code",
   "execution_count": 4,
   "id": "01b3164e",
   "metadata": {},
   "outputs": [
    {
     "name": "stdout",
     "output_type": "stream",
     "text": [
      "Numpy [[0.64805633 0.73986846 0.39393477]\n",
      " [0.69137843 0.53298923 0.27668312]]\n",
      "\n",
      "tensor([[0.9833, 0.5280, 0.2522],\n",
      "        [0.5085, 0.6267, 0.9850]])\n"
     ]
    }
   ],
   "source": [
    "# numpy random\n",
    "print(\"Numpy {}\\n\".format(np.random.rand(2,3)))\n",
    "\n",
    "# pytorch random\n",
    "print(torch.rand(2,3))"
   ]
  },
  {
   "cell_type": "markdown",
   "id": "acbec671",
   "metadata": {},
   "source": [
    "Yukarıda görüldüğü üzere 2x3 boyutunda random değerleden oluşan array'ler numpy ve torch ile elde edilmiştir."
   ]
  },
  {
   "cell_type": "markdown",
   "id": "fc1f5a73",
   "metadata": {},
   "source": [
    "Bir işlemin numpy'da nasıl yapıldığını bilip, torch'da nasıl yapıldığını bilmiyorsanız şöyle bir çözüm önerebilirim: İşlemleri numpy ile yapın ve en son neural network'ün input'unu pytorch'a çevirin ve neural network'ü eğitmeye başlayın. Bu işlemi şöyle yapıyoruz: \n",
    "\n",
    "torch.from_numpy()\n",
    "\n",
    "kod satırı ile numpy kütüphanesinden pytorch kütüphanesine çevrim gerçekleştirilebiliyor.\n",
    "\n",
    "numpy()  \n",
    "\n",
    "kod satırı ile de pytorch'dan numpy'a dönüşüm yapabiliyoruz."
   ]
  },
  {
   "cell_type": "code",
   "execution_count": 6,
   "id": "1c7910ba",
   "metadata": {},
   "outputs": [
    {
     "name": "stdout",
     "output_type": "stream",
     "text": [
      "<class 'numpy.ndarray'> [[0.23952739 0.24717972]\n",
      " [0.59226599 0.41134401]]\n",
      "\n",
      "tensor([[0.2395, 0.2472],\n",
      "        [0.5923, 0.4113]], dtype=torch.float64)\n",
      "\n",
      "<class 'numpy.ndarray'> [[0.23952739 0.24717972]\n",
      " [0.59226599 0.41134401]]\n",
      "\n"
     ]
    }
   ],
   "source": [
    "# random numpy array\n",
    "array = np.random.rand(2,2)\n",
    "print(\"{} {}\\n\".format(type(array),array))\n",
    "\n",
    "# from numpy to tensor\n",
    "from_numpy_to_tensor = torch.from_numpy(array)\n",
    "print(\"{}\\n\".format(from_numpy_to_tensor))\n",
    "\n",
    "# from tensor to numpy\n",
    "tensor = from_numpy_to_tensor\n",
    "from_tensor_to_numpy = tensor.numpy()\n",
    "print(\"{} {}\\n\".format(type(from_tensor_to_numpy),from_tensor_to_numpy))"
   ]
  },
  {
   "cell_type": "markdown",
   "id": "157779d6",
   "metadata": {},
   "source": [
    "array = np.random.rand(2,2) satırında numpy kütüphanesine ait bir array oluşturulmuştur.\n",
    "\n",
    "from_numpy_to_tensor = torch.from_numpy(array) satırında array numpy kütüphanesinden pytorch kütüphanesine döndürülmüştür.\n",
    "\n",
    "Elimizde pytorch'a ait tensor var. \n",
    "\n",
    "tensor = from_numpy_to_tensor\n",
    "\n",
    "from_tensor_to_numpy = tensor.numpy()\n",
    "\n",
    "satırlarında tensor'den numpy kütüphanesinin array'lerine dönüş yapılmıştır."
   ]
  },
  {
   "cell_type": "markdown",
   "id": "6cd3366d",
   "metadata": {},
   "source": [
    "## Basic Math with Pytorch"
   ]
  },
  {
   "cell_type": "code",
   "execution_count": 7,
   "id": "066f5534",
   "metadata": {},
   "outputs": [
    {
     "name": "stdout",
     "output_type": "stream",
     "text": [
      "\n",
      " tensor([[1., 1., 1.],\n",
      "        [1., 1., 1.],\n",
      "        [1., 1., 1.]])\n",
      "torch.Size([9])tensor([1., 1., 1., 1., 1., 1., 1., 1., 1.])\n",
      "\n",
      "Addition: tensor([[2., 2., 2.],\n",
      "        [2., 2., 2.],\n",
      "        [2., 2., 2.]])\n",
      "\n",
      "Subtraction: tensor([[0., 0., 0.],\n",
      "        [0., 0., 0.],\n",
      "        [0., 0., 0.]])\n",
      "\n",
      "Element wise multiplication: tensor([[1., 1., 1.],\n",
      "        [1., 1., 1.],\n",
      "        [1., 1., 1.]])\n",
      "\n",
      "Element wise division: tensor([[1., 1., 1.],\n",
      "        [1., 1., 1.],\n",
      "        [1., 1., 1.]])\n",
      "\n",
      "Mean: 3.0\n",
      "std: 1.5811388492584229\n"
     ]
    }
   ],
   "source": [
    "# create tensor \n",
    "tensor = torch.ones(3,3)\n",
    "print(\"\\n\",tensor)\n",
    "\n",
    "# Resize\n",
    "print(\"{}{}\\n\".format(tensor.view(9).shape,tensor.view(9)))\n",
    "\n",
    "# Addition\n",
    "print(\"Addition: {}\\n\".format(torch.add(tensor,tensor)))\n",
    "\n",
    "# Subtraction\n",
    "print(\"Subtraction: {}\\n\".format(tensor.sub(tensor)))\n",
    "\n",
    "# Element wise multiplication\n",
    "print(\"Element wise multiplication: {}\\n\".format(torch.mul(tensor,tensor)))\n",
    "\n",
    "# Element wise division\n",
    "print(\"Element wise division: {}\\n\".format(torch.div(tensor,tensor)))\n",
    "\n",
    "# Mean\n",
    "tensor = torch.Tensor([1,2,3,4,5])\n",
    "print(\"Mean: {}\".format(tensor.mean()))\n",
    "\n",
    "# Standart deviation (std)\n",
    "print(\"std: {}\".format(tensor.std()))"
   ]
  },
  {
   "cell_type": "markdown",
   "id": "a404b2c3",
   "metadata": {},
   "source": [
    "tensor = torch.ones(3,3) satırında 3x3 boyutunda 1 değerlerinden oluşan bir tensor oluşturulmuştur.\n",
    "\n",
    "print(\"{}{}\\n\".format(tensor.view(9).shape,tensor.view(9))) satırında 3x3 boyutundaki tensor 1x9'luk vektör haline getirilmiştir.\n",
    "\n",
    "print(\"Addition: {}\\n\".format(torch.add(tensor,tensor))) satırında 2 tane tensor toplanmıştır.\n",
    "\n",
    "print(\"Subtraction: {}\\n\".format(tensor.sub(tensor))) satırında çıkarma işlemi yapılmıştır.\n",
    "\n",
    "print(\"Element wise multiplication: {}\\n\".format(torch.mul(tensor,tensor))) satırında tensorlerin çarpımı gerçekleştirilmiştir.\n",
    "\n",
    "print(\"Element wise division: {}\\n\".format(torch.div(tensor,tensor))) satırında bölme işlemi gerçekleştirilmiştir.\n",
    "\n",
    "tensor = torch.Tensor([1,2,3,4,5])\n",
    "print(\"Mean: {}\".format(tensor.mean())) satırında ortalama hesaplanmıştır.\n",
    "\n",
    "print(\"std: {}\".format(tensor.std())) satırında standart sapma hesaplanmıştır."
   ]
  },
  {
   "cell_type": "markdown",
   "id": "e4c05672",
   "metadata": {},
   "source": [
    "## Variables"
   ]
  },
  {
   "cell_type": "markdown",
   "id": "62d564fc",
   "metadata": {},
   "source": [
    "Variables, gradient'leri içerisinde toplayan, biriktiren, depolayan yapılardır.\n",
    "\n",
    "Variables ile Array'ler arasındaki fark şudur:\n",
    "\n",
    "Variable'ler biz bir türev aldığımız zaman, gradient'i hesapladığımız zaman bu gradient'i içerisinde barındıran yapılardır.\n",
    "\n",
    "Tesnor'lerde olduğu gibi variable'lerde de matematiksel işlemleri gerçekleştirebiliyoruz. Backward propagation yapabilmek için yani neural network kurabilmek için, neural network'ü eğitebilmek için pytorch'da variable'lere ihtiyaç vardır.\n",
    "\n",
    "<br>\n",
    "<img src=\"p2.png\" align = \"left\" style=\"width:500px;height:200px\"/>"
   ]
  },
  {
   "cell_type": "markdown",
   "id": "07983dec",
   "metadata": {},
   "source": [
    "Şimdi bir matematiksel örnek yapalım.\n",
    "\n",
    "Assume we have equation y = x^2\n",
    "\n",
    "Define x = [2,4] variable\n",
    "\n",
    "After calculation we find that y = [4,16] (y = x^2)\n",
    "\n",
    "Recap o equation is that o = (1/2)sum(y) = (1/2)sum(x^2)\n",
    "\n",
    "deriavative of o = x\n",
    "\n",
    "Result is equal to x so gradients are [2,4]\n",
    "\n",
    "Lets implement\n",
    "\n",
    "Yukarıdaki işlemleri açıklayayım. y=x^2 şeklinde bir denklem vardır. x, 2 ve 4 değerlerini alabilmektedir. y'yi hesaplamak için 2 ve 4'ü yerine koymalıyız. y'yi 4 ve 16 buluruz. o = (1/2)sum(y) = (1/2)sum(x^2) satırında o isimli bir variable tanımlanarak toplama işlemi gerçekleştirilmiştir. Sonrasında o'yu kullanarak x'e göre gradient alınır. Yani o'nun x'e göre türevi alınacaktır.\n",
    "\n",
    "Bu işlemleri görsel üzerinden ifade edelim:\n",
    "\n",
    "<br>\n",
    "<img src=\"p3.png\" style=\"width:500px;height:200px\"/>\n",
    "\n",
    "Şimdi bu işlemleri pytorch ile implement edelim."
   ]
  },
  {
   "cell_type": "code",
   "execution_count": 8,
   "id": "d4db781c",
   "metadata": {},
   "outputs": [
    {
     "data": {
      "text/plain": [
       "tensor([1., 1., 1.], requires_grad=True)"
      ]
     },
     "execution_count": 8,
     "metadata": {},
     "output_type": "execute_result"
    }
   ],
   "source": [
    "# import variable from pytorch library\n",
    "from torch.autograd import Variable\n",
    "\n",
    "# define variable\n",
    "var = Variable(torch.ones(3), requires_grad = True)\n",
    "var"
   ]
  },
  {
   "cell_type": "markdown",
   "id": "0fb09884",
   "metadata": {},
   "source": [
    "Yukarıdaki from torch.autograd import Variable kod satırı ile variables import edilmiştir.\n",
    "\n",
    "var = Variable(torch.ones(3), requires_grad = True) satırında ise torch.ones(3) parametresi ile 1'lerden oluşan bir tensör oluşturulmuştur ve Variable'nin içerisine atılmıştır. requires_grad = True parametresi ile gradient bulma işlemi yapılacağı bildirilerek variable'ler ona göre ayarlanmıştır.\n",
    "\n",
    "Şimdi yukarıda yaptığımız matematiksel örneği koda dökelim."
   ]
  },
  {
   "cell_type": "code",
   "execution_count": 9,
   "id": "04ff11e2",
   "metadata": {},
   "outputs": [
    {
     "name": "stdout",
     "output_type": "stream",
     "text": [
      " y =   tensor([ 4., 16.], grad_fn=<PowBackward0>)\n",
      " o =   tensor(10., grad_fn=<MulBackward0>)\n",
      "gradients:  tensor([2., 4.])\n"
     ]
    }
   ],
   "source": [
    "array = [2,4]\n",
    "tensor = torch.Tensor(array)\n",
    "x = Variable(tensor, requires_grad = True)\n",
    "y = x**2\n",
    "print(\" y =  \",y)\n",
    "\n",
    "# recap o equation o = 1/2*sum(y)\n",
    "o = (1/2)*sum(y)\n",
    "print(\" o =  \",o)\n",
    "\n",
    "# backward\n",
    "o.backward() # calculates gradients\n",
    "\n",
    "print(\"gradients: \",x.grad)"
   ]
  }
 ],
 "metadata": {
  "kernelspec": {
   "display_name": "Python 3 (ipykernel)",
   "language": "python",
   "name": "python3"
  },
  "language_info": {
   "codemirror_mode": {
    "name": "ipython",
    "version": 3
   },
   "file_extension": ".py",
   "mimetype": "text/x-python",
   "name": "python",
   "nbconvert_exporter": "python",
   "pygments_lexer": "ipython3",
   "version": "3.9.12"
  }
 },
 "nbformat": 4,
 "nbformat_minor": 5
}
